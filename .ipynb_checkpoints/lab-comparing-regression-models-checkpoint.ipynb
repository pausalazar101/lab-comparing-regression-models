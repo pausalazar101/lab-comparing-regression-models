{
 "cells": [
  {
   "cell_type": "code",
   "execution_count": 3,
   "id": "fb8fa19e-195d-4e43-ac13-35d56f8e2a26",
   "metadata": {},
   "outputs": [],
   "source": [
    "import pandas as pd\n",
    "import numpy as np\n",
    "import datetime\n",
    "import warnings\n",
    "import re\n",
    "from sklearn.linear_model import LinearRegression\n",
    "\n",
    "warnings.filterwarnings('ignore')\n",
    "warnings.filterwarnings(\"ignore\", message=\"numpy.ufunc size changed\")\n",
    "\n",
    "import matplotlib.pyplot as plt\n",
    "import seaborn as sns\n",
    "%matplotlib inline\n",
    "\n",
    "pd.set_option('display.max_columns', None)\n",
    "from sklearn.model_selection import train_test_split\n"
   ]
  },
  {
   "cell_type": "code",
   "execution_count": 4,
   "id": "f3434c9c-70bb-48a7-b1ec-77c9e670c970",
   "metadata": {},
   "outputs": [
    {
     "data": {
      "text/plain": [
       "(5911, 26)"
      ]
     },
     "execution_count": 4,
     "metadata": {},
     "output_type": "execute_result"
    }
   ],
   "source": [
    "df = pd.read_csv('clean_data.csv')\n",
    "df.shape"
   ]
  },
  {
   "cell_type": "code",
   "execution_count": 5,
   "id": "cbde9f12-6ebb-4e5d-bda5-cafc605e0a9c",
   "metadata": {},
   "outputs": [
    {
     "data": {
      "text/plain": [
       "Customer                           int64\n",
       "State                              int64\n",
       "Customer Lifetime Value          float64\n",
       "Response                           int64\n",
       "Coverage                           int64\n",
       "Education                          int64\n",
       "EmploymentStatus                   int64\n",
       "Gender                             int64\n",
       "Income                           float64\n",
       "Location Code                      int64\n",
       "Marital Status                     int64\n",
       "Monthly Premium Auto             float64\n",
       "Months Since Last Claim          float64\n",
       "Months Since Policy Inception    float64\n",
       "Number of Open Complaints          int64\n",
       "Number of Policies                 int64\n",
       "Policy Type                        int64\n",
       "Policy                             int64\n",
       "Renew Offer Type                   int64\n",
       "Sales Channel                      int64\n",
       "Total Claim Amount               float64\n",
       "Vehicle Class                      int64\n",
       "Vehicle Size                       int64\n",
       "Day                                int64\n",
       "Month                              int64\n",
       "Year                               int64\n",
       "dtype: object"
      ]
     },
     "execution_count": 5,
     "metadata": {},
     "output_type": "execute_result"
    }
   ],
   "source": [
    "df.dtypes"
   ]
  },
  {
   "cell_type": "code",
   "execution_count": 6,
   "id": "f8ec3334-d4e1-4766-9ae8-c4c6fb92b8a3",
   "metadata": {},
   "outputs": [],
   "source": [
    "from sklearn.linear_model import LinearRegression\n",
    "from sklearn.model_selection import train_test_split\n",
    "from sklearn.metrics import mean_squared_error\n",
    "\n",
    "X = df.drop('Total Claim Amount', axis=1)  \n",
    "y = df['Total Claim Amount']  \n",
    "\n",
    "X_train, X_test, y_train, y_test = train_test_split(X, y, test_size=0.2, random_state=42)\n",
    "\n",
    "model = LinearRegression()\n",
    "model.fit(X_train, y_train)\n",
    "\n",
    "y_pred = model.predict(X_test)\n",
    "\n",
    "mse = mean_squared_error(y_test, y_pred)\n",
    "rmse = np.sqrt(mse)\n"
   ]
  },
  {
   "cell_type": "code",
   "execution_count": 7,
   "id": "2e0b5a97-4b99-4669-ac83-72f8da79fe32",
   "metadata": {},
   "outputs": [
    {
     "data": {
      "text/plain": [
       "0.021882028471871685"
      ]
     },
     "execution_count": 7,
     "metadata": {},
     "output_type": "execute_result"
    }
   ],
   "source": [
    "mse"
   ]
  },
  {
   "cell_type": "code",
   "execution_count": 8,
   "id": "69863f0c-0fe2-425b-9a99-96bd7b5c607e",
   "metadata": {},
   "outputs": [
    {
     "data": {
      "text/plain": [
       "0.1479257532408461"
      ]
     },
     "execution_count": 8,
     "metadata": {},
     "output_type": "execute_result"
    }
   ],
   "source": [
    "rmse"
   ]
  },
  {
   "cell_type": "code",
   "execution_count": 13,
   "id": "a67e78dc-ebf9-41f7-ae75-a6e15ba5d587",
   "metadata": {},
   "outputs": [],
   "source": [
    "from sklearn.neighbors import KNeighborsRegressor\n",
    "knn_reg = KNeighborsRegressor()\n",
    "knn_reg.fit(X_train, y_train)\n",
    "\n",
    "y_pred = knn_reg.predict(X_test)\n",
    "\n",
    "mse = mean_squared_error(y_test, y_pred)\n",
    "rmse = np.sqrt(mse)"
   ]
  },
  {
   "cell_type": "code",
   "execution_count": 14,
   "id": "d8261415-22d5-4d42-9ae6-0db2cbf18842",
   "metadata": {},
   "outputs": [
    {
     "data": {
      "text/plain": [
       "0.05318980675793311"
      ]
     },
     "execution_count": 14,
     "metadata": {},
     "output_type": "execute_result"
    }
   ],
   "source": [
    "mse"
   ]
  },
  {
   "cell_type": "code",
   "execution_count": 15,
   "id": "c50b3e5e-78c4-46c3-9e60-5ebc23c3f126",
   "metadata": {},
   "outputs": [
    {
     "data": {
      "text/plain": [
       "0.23062915418032714"
      ]
     },
     "execution_count": 15,
     "metadata": {},
     "output_type": "execute_result"
    }
   ],
   "source": [
    "rmse"
   ]
  },
  {
   "cell_type": "code",
   "execution_count": 16,
   "id": "89cbd9f8-22da-41f7-bd82-1628e96ad82b",
   "metadata": {},
   "outputs": [],
   "source": [
    "from sklearn.neural_network import MLPRegressor\n",
    "mlp_reg = MLPRegressor()\n",
    "mlp_reg.fit(X_train, y_train)\n",
    "\n",
    "# Make predictions on the test set\n",
    "y_pred = mlp_reg.predict(X_test)\n",
    "\n",
    "# Evaluate the model\n",
    "mse = mean_squared_error(y_test, y_pred)\n",
    "rmse = np.sqrt(mse)"
   ]
  },
  {
   "cell_type": "code",
   "execution_count": 17,
   "id": "e98d271c-288d-4a6f-ade0-ffc257e6b6c1",
   "metadata": {},
   "outputs": [
    {
     "data": {
      "text/plain": [
       "1.1629913038912318"
      ]
     },
     "execution_count": 17,
     "metadata": {},
     "output_type": "execute_result"
    }
   ],
   "source": [
    "mse"
   ]
  },
  {
   "cell_type": "code",
   "execution_count": 18,
   "id": "c5a6ad08-6b24-4f3b-ba2e-d216d1716bb0",
   "metadata": {},
   "outputs": [
    {
     "data": {
      "text/plain": [
       "1.0784207452989913"
      ]
     },
     "execution_count": 18,
     "metadata": {},
     "output_type": "execute_result"
    }
   ],
   "source": [
    "rmse"
   ]
  },
  {
   "cell_type": "markdown",
   "id": "037f1890-b5d2-4674-b90e-32a1de5993f9",
   "metadata": {},
   "source": [
    "The linear regression has the best results from the three options."
   ]
  }
 ],
 "metadata": {
  "kernelspec": {
   "display_name": "Python 3 (ipykernel)",
   "language": "python",
   "name": "python3"
  },
  "language_info": {
   "codemirror_mode": {
    "name": "ipython",
    "version": 3
   },
   "file_extension": ".py",
   "mimetype": "text/x-python",
   "name": "python",
   "nbconvert_exporter": "python",
   "pygments_lexer": "ipython3",
   "version": "3.9.12"
  }
 },
 "nbformat": 4,
 "nbformat_minor": 5
}
